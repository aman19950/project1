{
 "cells": [
  {
   "cell_type": "code",
   "execution_count": 4,
   "id": "fe64a871",
   "metadata": {},
   "outputs": [
    {
     "name": "stdout",
     "output_type": "stream",
     "text": [
      "hello how are you\n",
      "hello how are you\n",
      "89\n",
      "5.6\n",
      "True\n"
     ]
    }
   ],
   "source": [
    "print(\"hello how are you\")\n",
    "print('hello how are you')\n",
    "\n",
    "print(89)\n",
    "\n",
    "print(5.6)\n",
    "\n",
    "print(True)"
   ]
  },
  {
   "cell_type": "code",
   "execution_count": 5,
   "id": "1b364084",
   "metadata": {},
   "outputs": [
    {
     "name": "stdout",
     "output_type": "stream",
     "text": [
      "<class 'str'>\n",
      "<class 'int'>\n",
      "<class 'float'>\n",
      "<class 'bool'>\n"
     ]
    }
   ],
   "source": [
    "print(type(\"hello\"))\n",
    "print(type(78))\n",
    "print(type(6.7))\n",
    "print(type(True))"
   ]
  },
  {
   "cell_type": "code",
   "execution_count": 6,
   "id": "d16d6879",
   "metadata": {},
   "outputs": [
    {
     "name": "stdout",
     "output_type": "stream",
     "text": [
      "78\n"
     ]
    }
   ],
   "source": [
    "print(\"78\")"
   ]
  },
  {
   "cell_type": "code",
   "execution_count": 12,
   "id": "6bff1b4d",
   "metadata": {},
   "outputs": [
    {
     "name": "stdout",
     "output_type": "stream",
     "text": [
      "10\n",
      "55\n",
      "55555\n",
      "25\n"
     ]
    }
   ],
   "source": [
    "print(5 + 5)\n",
    "# print(\"5\" + 5) # ---> it will give you the error\n",
    "print(\"5\" + \"5\") ## 55 concatination\n",
    "print(\"5\" * 5) #  no of times\n",
    "print(5 * 5)   # 25"
   ]
  },
  {
   "cell_type": "code",
   "execution_count": 13,
   "id": "ff108632",
   "metadata": {},
   "outputs": [
    {
     "name": "stdout",
     "output_type": "stream",
     "text": [
      "<class 'str'>\n"
     ]
    }
   ],
   "source": [
    "print(type(\"78\"))"
   ]
  },
  {
   "cell_type": "markdown",
   "id": "03e30790",
   "metadata": {},
   "source": [
    "### variables\n",
    "- Rules\n",
    "1. variable can be start with alphabets(not complusory)\n",
    "        --- ex  abc,x,y,z,name\n",
    "2. underscore( _ ) is the special character which is allowed to create  a variable\n",
    "        -- abc_123,x_y,xyz_123\n",
    "\n",
    "3. variables cannot be starts with numbers.\n",
    "        --ex. 123,12abc\n",
    "4. any special is not allowed(excpet underscore)\n",
    "        --ex . a b,s# bab c125\n",
    "5. keywords are not allowed to create variables\n",
    "           ex if,else,for,class,True,False"
   ]
  },
  {
   "cell_type": "code",
   "execution_count": 16,
   "id": "9cd1f525",
   "metadata": {},
   "outputs": [
    {
     "name": "stdout",
     "output_type": "stream",
     "text": [
      "hello\n",
      "<class 'str'>\n"
     ]
    }
   ],
   "source": [
    "x = \"hello\"\n",
    "y = 123\n",
    "z = 7.8\n",
    "u  = True\n",
    "\n",
    "print(x)\n",
    "print(type(x))"
   ]
  },
  {
   "cell_type": "code",
   "execution_count": 18,
   "id": "1787bb97",
   "metadata": {},
   "outputs": [
    {
     "name": "stdout",
     "output_type": "stream",
     "text": [
      "18\n",
      "3\n"
     ]
    }
   ],
   "source": [
    "x = \"hello how are you?\"\n",
    "print(len(x))\n",
    "print(x.count('o'))"
   ]
  },
  {
   "cell_type": "code",
   "execution_count": 19,
   "id": "3654b958",
   "metadata": {},
   "outputs": [
    {
     "name": "stdout",
     "output_type": "stream",
     "text": [
      "HELLO HOW ARE YOU?\n",
      "hello how are you?\n",
      "Hello How Are You?\n",
      "Hello how are you?\n"
     ]
    }
   ],
   "source": [
    "x = \"hello how are you?\"\n",
    "print(x.upper())\n",
    "print(x.lower())\n",
    "print(x.title())\n",
    "print(x.capitalize())"
   ]
  },
  {
   "cell_type": "code",
   "execution_count": 2,
   "id": "9a731390",
   "metadata": {},
   "outputs": [
    {
     "name": "stdout",
     "output_type": "stream",
     "text": [
      "False\n",
      "True\n",
      "False\n",
      "False\n",
      "False\n",
      "False\n"
     ]
    }
   ],
   "source": [
    "x = \"hello how are you?\"\n",
    "print(x.isupper())    # False\n",
    "print(x.islower())    # True\n",
    "print(x.isalpha())    # False\n",
    "print(x.isalnum())    # False\n",
    "print(x.isdigit())    # False\n",
    "print(x.isnumeric())  # False"
   ]
  },
  {
   "cell_type": "code",
   "execution_count": 1,
   "id": "c9502bb2",
   "metadata": {},
   "outputs": [
    {
     "name": "stdout",
     "output_type": "stream",
     "text": [
      "h\n",
      "l\n"
     ]
    }
   ],
   "source": [
    "# indexing ko hum log use krte particular kisi letter ko access krne k lie \n",
    "x = \"hello\"\n",
    "print(x[0])\n",
    "print(x[-2])"
   ]
  },
  {
   "cell_type": "code",
   "execution_count": null,
   "id": "5b3eb159",
   "metadata": {},
   "outputs": [],
   "source": []
  }
 ],
 "metadata": {
  "kernelspec": {
   "display_name": "Python 3 (ipykernel)",
   "language": "python",
   "name": "python3"
  },
  "language_info": {
   "codemirror_mode": {
    "name": "ipython",
    "version": 3
   },
   "file_extension": ".py",
   "mimetype": "text/x-python",
   "name": "python",
   "nbconvert_exporter": "python",
   "pygments_lexer": "ipython3",
   "version": "3.10.9"
  }
 },
 "nbformat": 4,
 "nbformat_minor": 5
}
