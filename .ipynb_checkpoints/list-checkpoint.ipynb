{
 "cells": [
  {
   "cell_type": "markdown",
   "id": "967cc236",
   "metadata": {},
   "source": [
    "## Data structure\n",
    "- list -----> [ ]\n",
    "- tuple ----> ()\n",
    "- set ----> {}\n",
    "- dict ---->{key:value}"
   ]
  },
  {
   "cell_type": "markdown",
   "id": "588d4768",
   "metadata": {},
   "source": [
    "### List and Tuple\n",
    "1. list is a collection of different datatypes.(same in tuple)\n",
    "2. list is ordered. (same in tuple)\n",
    "3. list is indexed. (same in tuple)\n",
    "4. repeative elements can be allowed in list.(same in tuple)\n",
    "5. list is <b>mutable</b> and tuple is <b>immutable</b>"
   ]
  },
  {
   "cell_type": "code",
   "execution_count": 1,
   "id": "4d92024f",
   "metadata": {},
   "outputs": [
    {
     "name": "stdout",
     "output_type": "stream",
     "text": [
      "[1, 3.5, 'hello', True, 1, 11, 11, 1]\n"
     ]
    }
   ],
   "source": [
    "x = [1 , 3.5, \"hello\", True,1,11,11,1]\n",
    "print(x)"
   ]
  },
  {
   "cell_type": "code",
   "execution_count": 2,
   "id": "7fa68953",
   "metadata": {},
   "outputs": [
    {
     "name": "stdout",
     "output_type": "stream",
     "text": [
      "hello\n"
     ]
    }
   ],
   "source": [
    "print(x[2])"
   ]
  },
  {
   "cell_type": "code",
   "execution_count": 3,
   "id": "0e1fa984",
   "metadata": {},
   "outputs": [
    {
     "name": "stdout",
     "output_type": "stream",
     "text": [
      "[1, 3.5, 'hello', True, 1, 11, 11, 1]\n",
      "[1, 1000, 'hello', True, 1, 11, 11, 1]\n"
     ]
    }
   ],
   "source": [
    "x = [1 , 3.5, \"hello\", True,1,11,11,1]\n",
    "print(x)\n",
    "x[1] = 1000\n",
    "print(x)"
   ]
  },
  {
   "cell_type": "code",
   "execution_count": 6,
   "id": "7aa242d4",
   "metadata": {},
   "outputs": [
    {
     "name": "stdout",
     "output_type": "stream",
     "text": [
      "[3.5, 'hello', True, 1]\n",
      "<class 'list'>\n"
     ]
    }
   ],
   "source": [
    "x = [1 , 3.5, \"hello\", True,1,11,11,1]\n",
    "print(x[1:5])\n",
    "print(type(x))"
   ]
  },
  {
   "cell_type": "code",
   "execution_count": 11,
   "id": "4ef8ce1f",
   "metadata": {},
   "outputs": [
    {
     "name": "stdout",
     "output_type": "stream",
     "text": [
      "[1, 100, 11, 1]\n"
     ]
    }
   ],
   "source": [
    "x = [1 , 3.5, \"hello\", True,1,11,11,1]\n",
    "x[1:6] = [100]\n",
    "print(x)"
   ]
  },
  {
   "cell_type": "code",
   "execution_count": 15,
   "id": "883196f2",
   "metadata": {},
   "outputs": [
    {
     "name": "stdout",
     "output_type": "stream",
     "text": [
      "5\n",
      "121\n",
      "1\n",
      "223\n",
      "[121, 56, 32, 13, 1]\n"
     ]
    }
   ],
   "source": [
    "x = [1,32,13,56,121]\n",
    "print(len(x))\n",
    "print(max(x))\n",
    "print(min(x))\n",
    "print(sum(x))\n",
    "# x.sort()\n",
    "x.sort(reverse=True)\n",
    "print(x)"
   ]
  },
  {
   "cell_type": "code",
   "execution_count": 19,
   "id": "7a5fced9",
   "metadata": {},
   "outputs": [
    {
     "name": "stdout",
     "output_type": "stream",
     "text": [
      "3\n",
      "hi\n",
      "hello\n",
      "['hello', 'hey', 'hi']\n"
     ]
    }
   ],
   "source": [
    "# x = [1,\"hello\",13,56,121]\n",
    "x = [\"hello\",\"hi\",\"hey\"]\n",
    "print(len(x))  # 5\n",
    "print(max(x))\n",
    "print(min(x))\n",
    "# print(sum(x))\n",
    "x.sort()\n",
    "# x.sort(reverse=True)\n",
    "print(x)"
   ]
  },
  {
   "cell_type": "code",
   "execution_count": 20,
   "id": "445178a5",
   "metadata": {},
   "outputs": [
    {
     "name": "stdout",
     "output_type": "stream",
     "text": [
      "[1, 2, 3, 1, 2, 3, 1, 2, 3]\n"
     ]
    }
   ],
   "source": [
    "x = [1,2,3] * 3\n",
    "print(x)"
   ]
  },
  {
   "cell_type": "markdown",
   "id": "d72e1f68",
   "metadata": {},
   "source": [
    "### Nested List"
   ]
  },
  {
   "cell_type": "code",
   "execution_count": 1,
   "id": "cf6940bb",
   "metadata": {},
   "outputs": [
    {
     "name": "stdout",
     "output_type": "stream",
     "text": [
      "6\n",
      "10\n"
     ]
    }
   ],
   "source": [
    "x = [1, [2, 3, 4, [5, 6, 7], 8, 9, 10], 11, 12]\n",
    "\n",
    "\n",
    "print(x[1][3][1])\n",
    "print(x[1][6])"
   ]
  },
  {
   "cell_type": "code",
   "execution_count": 33,
   "id": "cd8693bd",
   "metadata": {},
   "outputs": [
    {
     "name": "stdout",
     "output_type": "stream",
     "text": [
      "[[100], [], []]\n"
     ]
    }
   ],
   "source": [
    "# x = [ [] ] * 3\n",
    "x = [[], [], []]\n",
    "# print(id(x[0]))\n",
    "# print(id(x[1]))\n",
    "# print(id(x[2]))\n",
    "x[0].append(100)\n",
    "print(x)"
   ]
  },
  {
   "cell_type": "code",
   "execution_count": 29,
   "id": "34d91a1c",
   "metadata": {},
   "outputs": [
    {
     "name": "stdout",
     "output_type": "stream",
     "text": [
      "[100, 11, 22, 33, 44, 67, 89, 90, 100]\n"
     ]
    }
   ],
   "source": [
    "x = [11,22,33,44]\n",
    "# x.append(100)\n",
    "x.insert(0,100)\n",
    "x.extend([67,89,90,100])\n",
    "print(x)"
   ]
  },
  {
   "cell_type": "code",
   "execution_count": 35,
   "id": "54519abd",
   "metadata": {},
   "outputs": [
    {
     "name": "stdout",
     "output_type": "stream",
     "text": [
      "[1, 2, 3, 4, 5, 6]\n"
     ]
    }
   ],
   "source": [
    "x = [1,2,3] + [4,5,6]\n",
    "# y = [1,2,3] - [4,5,6]  # error\n",
    "print(x)"
   ]
  },
  {
   "cell_type": "code",
   "execution_count": 5,
   "id": "8c32bfd4",
   "metadata": {},
   "outputs": [
    {
     "name": "stdout",
     "output_type": "stream",
     "text": [
      "[[1, 2, 3, [4, 5, 6, [7, 8, 9, 10, 11], 3000, 12, 13], 14, 15]]\n"
     ]
    }
   ],
   "source": [
    "# Q1\n",
    "x = [[1, 2, 3, [4, 5, 6, [7, 8, 9, 10, 11], 12, 13], 14, 15]]\n",
    "\n",
    "\n",
    "# x = [[1, 2, 3, [4, 5, 6, [7, 8, 9, 10, 11], 12, 13,1000], 14, 15]]\n",
    "# x[0][3].append(1000)\n",
    "# print(x)\n",
    "# x = [[1, 2, 3, [4, 5, 6, [7, 8, 9,2000,10, 11], 12, 13], 14, 15]]\n",
    "# x[0][3][3].insert(3,2000)\n",
    "# print(x)\n",
    "# x = [[1, 2, 3, [4, 5, 6, [7, 8, 9, 10, 11],3000, 12, 13], 14, 15]]\n",
    "x[0][3].insert(4,3000)\n",
    "print(x)"
   ]
  },
  {
   "cell_type": "code",
   "execution_count": 15,
   "id": "5b99ebf4",
   "metadata": {},
   "outputs": [
    {
     "name": "stdout",
     "output_type": "stream",
     "text": [
      "[]\n"
     ]
    }
   ],
   "source": [
    "x = [11,22,33,44,55,44,44,100]\n",
    "\n",
    "# x.remove(44)      # it remove first element of the list which mention in the brackets\n",
    "# del x            # deletes x\n",
    "# del x[2]     \n",
    "# del x[1:4]\n",
    "# z = x.pop()     # it remove last element of the list\n",
    "# z  = x.pop(0)\n",
    "x.clear()\n",
    "print(x)\n",
    "# print(z +  200)\n",
    "z = []   # empty list"
   ]
  },
  {
   "cell_type": "code",
   "execution_count": 22,
   "id": "e137da6f",
   "metadata": {},
   "outputs": [
    {
     "name": "stdout",
     "output_type": "stream",
     "text": [
      "present\n"
     ]
    }
   ],
   "source": [
    "x = [11,22,33,44,55]\n",
    "\n",
    "if 331 not in x:\n",
    "    print(\"present\")\n",
    "else:\n",
    "    print(\"not present\")"
   ]
  },
  {
   "cell_type": "code",
   "execution_count": 18,
   "id": "8839e758",
   "metadata": {},
   "outputs": [
    {
     "name": "stdout",
     "output_type": "stream",
     "text": [
      "2073200955456\n",
      "2073200955968\n",
      "True\n",
      "False\n"
     ]
    }
   ],
   "source": [
    "x =  [1,2,3]\n",
    "y =  [1,2,3]\n",
    "print(id(x))\n",
    "print(id(y))\n",
    "print(x == y)   # True\n",
    "print(x is y)   # False"
   ]
  },
  {
   "cell_type": "code",
   "execution_count": 26,
   "id": "0683331c",
   "metadata": {},
   "outputs": [
    {
     "name": "stdout",
     "output_type": "stream",
     "text": [
      "hey\n"
     ]
    }
   ],
   "source": [
    "if [1,2,3]:\n",
    "    print(\"hey\")\n",
    "    \n",
    "if []:\n",
    "    print(\"bye\")"
   ]
  },
  {
   "cell_type": "code",
   "execution_count": 44,
   "id": "b9c3c589",
   "metadata": {},
   "outputs": [
    {
     "name": "stdout",
     "output_type": "stream",
     "text": [
      "a\n",
      "e\n",
      "i\n",
      "m\n"
     ]
    }
   ],
   "source": [
    "# x = [\"hello\",\"hi\",\"hey\"]\n",
    "x = [\"a\",\"e\",\"i\",\"m\"]\n",
    "\n",
    "for i in x:\n",
    "    print(i)\n",
    "# for i in x:\n",
    "#     print(i)\n",
    "\n",
    "# for i in range(len(x)):\n",
    "#     print(i,\"---\",x[i])"
   ]
  },
  {
   "cell_type": "code",
   "execution_count": 35,
   "id": "01d63aa9",
   "metadata": {},
   "outputs": [
    {
     "name": "stdout",
     "output_type": "stream",
     "text": [
      "[66]\n"
     ]
    }
   ],
   "source": [
    "x = [11,22,33,44,55,66]\n",
    "# print(x[6])\n",
    "print(x[5:])"
   ]
  },
  {
   "cell_type": "code",
   "execution_count": 39,
   "id": "586c336b",
   "metadata": {},
   "outputs": [
    {
     "name": "stdout",
     "output_type": "stream",
     "text": [
      "[11, 22, 33, 55]\n"
     ]
    }
   ],
   "source": [
    "# Q1. wap to remove all 44 from the list\n",
    "x = [11,22,33,44,55,44,44,44]\n",
    "# for i in x:\n",
    "#     if i == 44:\n",
    "#         x.remove(44)\n",
    "# print(x)\n",
    "while 44 in x:\n",
    "    x.remove(44)\n",
    "print(x)"
   ]
  },
  {
   "cell_type": "code",
   "execution_count": 40,
   "id": "262c6300",
   "metadata": {},
   "outputs": [
    {
     "name": "stdout",
     "output_type": "stream",
     "text": [
      "[2, 4, 6, 8, 10]\n"
     ]
    }
   ],
   "source": [
    "# z = [2,4,6,8,10]\n",
    "z = []\n",
    "for i in range(2,12,2):\n",
    "    z.append(i)\n",
    "print(z)"
   ]
  },
  {
   "cell_type": "code",
   "execution_count": 42,
   "id": "ef1db589",
   "metadata": {},
   "outputs": [
    {
     "name": "stdout",
     "output_type": "stream",
     "text": [
      "[4, 16, 36, 64, 100]\n"
     ]
    }
   ],
   "source": [
    "z  = [i*i for i in range(2,12,2)]\n",
    "print(z)"
   ]
  },
  {
   "cell_type": "code",
   "execution_count": 1,
   "id": "6cfd377a",
   "metadata": {},
   "outputs": [],
   "source": [
    "# # Q1\n",
    "# x = [\"hello\",\"hi\"]\n",
    "# y = [\"sonu\",\"monu\"]\n",
    "\n",
    "# # o/p\n",
    "# z = [\"hello sonu\",\"hello monu\",\"hi sonu\",\"hi monu\"]\n",
    "\n",
    "# # Q2\n",
    "# x = [\"m\",\"na\",\"i\",\"am\"]\n",
    "# y = [\"y\",\"me\",\"s\",\"an\"]\n",
    "\n",
    "# o/p\n",
    "# z = [\"my\" ,\"name\",\"is\",\"aman\"]"
   ]
  },
  {
   "cell_type": "code",
   "execution_count": 4,
   "id": "025df3c1",
   "metadata": {},
   "outputs": [
    {
     "name": "stdout",
     "output_type": "stream",
     "text": [
      "[11, 22, 55]\n"
     ]
    }
   ],
   "source": [
    "x  = [11,22,44,55,44]\n",
    "\n",
    "for i in x:\n",
    "    if  i== 44:\n",
    "        x.remove(44)\n",
    "print(x)"
   ]
  },
  {
   "cell_type": "code",
   "execution_count": 5,
   "id": "9795bdd1",
   "metadata": {},
   "outputs": [
    {
     "name": "stdout",
     "output_type": "stream",
     "text": [
      "['hello sonu', 'hello monu', 'hi sonu', 'hi monu']\n"
     ]
    }
   ],
   "source": [
    "# Q1\n",
    "x = [\"hello\",\"hi\"]\n",
    "y = [\"sonu\",\"monu\"]\n",
    "\n",
    "# # o/p\n",
    "# z = [\"hello sonu\",\"hello monu\",\"hi sonu\",\"hi monu\"]\n",
    "\n",
    "z =  []\n",
    "for i in x:\n",
    "    for j in y:\n",
    "        z.append(i+\" \"+j)\n",
    "print(z)"
   ]
  },
  {
   "cell_type": "code",
   "execution_count": 6,
   "id": "b6ba505c",
   "metadata": {},
   "outputs": [
    {
     "name": "stdout",
     "output_type": "stream",
     "text": [
      "['hello sonu', 'hello monu', 'hi sonu', 'hi monu']\n"
     ]
    }
   ],
   "source": [
    "x = [\"hello\",\"hi\"]\n",
    "y = [\"sonu\",\"monu\"]\n",
    "\n",
    "z = [i+\" \"+j for i in x for j in y]\n",
    "print(z)"
   ]
  },
  {
   "cell_type": "code",
   "execution_count": 7,
   "id": "8f547077",
   "metadata": {},
   "outputs": [],
   "source": [
    "# # Q2\n",
    "# x = [\"m\",\"na\",\"i\",\"am\"]\n",
    "# y = [\"y\",\"me\",\"s\",\"an\"]\n",
    "\n",
    "# o/p\n",
    "# z = [\"my\" ,\"name\",\"is\",\"aman\"]"
   ]
  },
  {
   "cell_type": "code",
   "execution_count": 8,
   "id": "e495407c",
   "metadata": {},
   "outputs": [
    {
     "name": "stdout",
     "output_type": "stream",
     "text": [
      "[11, 22, 33, 44, 55]\n"
     ]
    }
   ],
   "source": [
    "x = [11,22,33,44,55,33,55,33,11]\n",
    "z = []\n",
    "for i in x:\n",
    "    if i not in z:\n",
    "        z.append(i)\n",
    "print(z)"
   ]
  },
  {
   "cell_type": "code",
   "execution_count": 12,
   "id": "d7f4ad65",
   "metadata": {},
   "outputs": [
    {
     "name": "stdout",
     "output_type": "stream",
     "text": [
      "[4, 6, 6, 11, 22, 33, 78, 222]\n",
      "17316\n"
     ]
    }
   ],
   "source": [
    "# Q1. wap to multiple top two elements from the list\n",
    "x = [11,222,33,22,6,4,78,6]\n",
    "x.sort()\n",
    "print(x)\n",
    "print(x[-1] * x[-2])\n"
   ]
  },
  {
   "cell_type": "code",
   "execution_count": 13,
   "id": "fcea2a43",
   "metadata": {},
   "outputs": [
    {
     "name": "stdout",
     "output_type": "stream",
     "text": [
      "bccb\n",
      "1221\n",
      "babbb\n"
     ]
    }
   ],
   "source": [
    "x = [\"abcd\",\"bccb\",\"bcb\",\"1221\",\"babbb\"]\n",
    "\n",
    "for i in x:\n",
    "    if len(i)>3 and i[0] == i[-1]:\n",
    "        print(i)"
   ]
  },
  {
   "cell_type": "code",
   "execution_count": 15,
   "id": "5d0a9024",
   "metadata": {},
   "outputs": [
    {
     "name": "stdout",
     "output_type": "stream",
     "text": [
      "[1, 2, 3, 100]\n",
      "1830394968512\n",
      "[1, 2, 3, 100]\n",
      "1830394968512\n"
     ]
    }
   ],
   "source": [
    "x = [1,2,3]\n",
    "y = x       ## copy\n",
    "x.append(100)\n",
    "print(x)\n",
    "print(id(x))\n",
    "print(y)\n",
    "print(id(y))"
   ]
  },
  {
   "cell_type": "code",
   "execution_count": 19,
   "id": "617b67cc",
   "metadata": {},
   "outputs": [
    {
     "name": "stdout",
     "output_type": "stream",
     "text": [
      "[[1, 2, 3, 100]]\n",
      "[[1, 2, 3]]\n"
     ]
    }
   ],
   "source": [
    "import copy\n",
    "x = [[1,2,3]]\n",
    "\n",
    "y = copy.deepcopy(x)\n",
    "x[0].append(100)\n",
    "\n",
    "print(x)\n",
    "print(y)"
   ]
  },
  {
   "cell_type": "code",
   "execution_count": null,
   "id": "5a79e0cc",
   "metadata": {},
   "outputs": [],
   "source": []
  }
 ],
 "metadata": {
  "kernelspec": {
   "display_name": "Python 3 (ipykernel)",
   "language": "python",
   "name": "python3"
  },
  "language_info": {
   "codemirror_mode": {
    "name": "ipython",
    "version": 3
   },
   "file_extension": ".py",
   "mimetype": "text/x-python",
   "name": "python",
   "nbconvert_exporter": "python",
   "pygments_lexer": "ipython3",
   "version": "3.10.9"
  }
 },
 "nbformat": 4,
 "nbformat_minor": 5
}
