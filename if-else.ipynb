{
 "cells": [
  {
   "cell_type": "markdown",
   "id": "bb4b948b",
   "metadata": {},
   "source": [
    "## if-else"
   ]
  },
  {
   "cell_type": "code",
   "execution_count": 1,
   "id": "7fcf6058",
   "metadata": {},
   "outputs": [
    {
     "name": "stdout",
     "output_type": "stream",
     "text": [
      "hello\n",
      "hi\n"
     ]
    }
   ],
   "source": [
    "if(10 > 5):\n",
    "    print(\"hello\")\n",
    "    print(\"hi\")\n",
    "# print(\"hello\")"
   ]
  },
  {
   "cell_type": "code",
   "execution_count": 6,
   "id": "5f0c71d7",
   "metadata": {},
   "outputs": [
    {
     "name": "stdout",
     "output_type": "stream",
     "text": [
      "bye\n"
     ]
    }
   ],
   "source": [
    "if(10 > 15):\n",
    "    print(\"hello\")\n",
    "    print(\"hi\")\n",
    "else:\n",
    "    print(\"bye\")"
   ]
  },
  {
   "cell_type": "code",
   "execution_count": 8,
   "id": "df158dd0",
   "metadata": {},
   "outputs": [
    {
     "name": "stdout",
     "output_type": "stream",
     "text": [
      "bye\n"
     ]
    }
   ],
   "source": [
    "if(10 > 15):\n",
    "    print(\"hello\")\n",
    "    print(\"hi\")\n",
    "    print(\"heyyyyy\")\n",
    "else:\n",
    "    print(\"bye\")"
   ]
  },
  {
   "cell_type": "code",
   "execution_count": 9,
   "id": "38f22b7b",
   "metadata": {},
   "outputs": [
    {
     "name": "stdout",
     "output_type": "stream",
     "text": [
      "one\n",
      "ten\n",
      "ten.5\n",
      "hi\n",
      "True\n"
     ]
    }
   ],
   "source": [
    "if(1):\n",
    "    print(\"one\")\n",
    "    \n",
    "if(0):\n",
    "    print(\"zero\")\n",
    "\n",
    "if(10):\n",
    "    print(\"ten\")\n",
    "    \n",
    "if(10.5):\n",
    "    print(\"ten.5\")\n",
    "\n",
    "if(\"hello\"):\n",
    "    print(\"hi\")\n",
    "\n",
    "if(True):\n",
    "    print(\"True\")\n",
    "    \n",
    "if(False):\n",
    "    print(\"false\")\n",
    "\n",
    "if(None):\n",
    "    print(\"none\")"
   ]
  },
  {
   "cell_type": "code",
   "execution_count": 13,
   "id": "6570ecfc",
   "metadata": {},
   "outputs": [
    {
     "name": "stdout",
     "output_type": "stream",
     "text": [
      "enter a number = 0\n",
      "False\n"
     ]
    }
   ],
   "source": [
    "x = int(input(\"enter a number = \"))\n",
    "\n",
    "if x:\n",
    "    print(True)\n",
    "else:\n",
    "    print(False)"
   ]
  },
  {
   "cell_type": "code",
   "execution_count": 14,
   "id": "38190230",
   "metadata": {},
   "outputs": [
    {
     "name": "stdout",
     "output_type": "stream",
     "text": [
      "True\n",
      "False\n"
     ]
    }
   ],
   "source": [
    "print(bool(1))\n",
    "print(bool(0))"
   ]
  },
  {
   "cell_type": "code",
   "execution_count": 15,
   "id": "b57cf68e",
   "metadata": {},
   "outputs": [
    {
     "name": "stdout",
     "output_type": "stream",
     "text": [
      "True\n",
      "True\n",
      "False\n"
     ]
    }
   ],
   "source": [
    "# print(type(print()))\n",
    "print(bool(56))\n",
    "print(bool(\"false\"))\n",
    "print(bool())"
   ]
  },
  {
   "cell_type": "markdown",
   "id": "e2493a5d",
   "metadata": {},
   "source": [
    "### if-elif-else"
   ]
  },
  {
   "cell_type": "code",
   "execution_count": 20,
   "id": "edcdd508",
   "metadata": {},
   "outputs": [
    {
     "name": "stdout",
     "output_type": "stream",
     "text": [
      "bye\n"
     ]
    }
   ],
   "source": [
    "if(20 > 25):\n",
    "    print(\"hello\")\n",
    "elif(30 > 35):\n",
    "    print(\"hey\")\n",
    "elif(40 > 56):\n",
    "    print(\"hii\")\n",
    "else:\n",
    "    print(\"bye\")"
   ]
  },
  {
   "cell_type": "markdown",
   "id": "c438d322",
   "metadata": {},
   "source": [
    "#### wap to print fizz if a input number is divisible by 3 , print buzz if a number is divisible by 5 and print fizzbuzz if a number is divisible 3 or 5 otherwise print the number as it is."
   ]
  },
  {
   "cell_type": "code",
   "execution_count": 27,
   "id": "ec701d98",
   "metadata": {},
   "outputs": [
    {
     "name": "stdout",
     "output_type": "stream",
     "text": [
      "enter a number = 18\n",
      "Fizz\n"
     ]
    }
   ],
   "source": [
    "num = int(input(\"enter a number = \"))\n",
    "\n",
    "if(num%3 == 0 and num%5 == 0):\n",
    "    print(\"Fizzbuzz\")\n",
    "elif(num%5 == 0):\n",
    "    print(\"Buzz\")\n",
    "elif(num%3 == 0 ):\n",
    "    print(\"Fizz\")\n",
    "else:\n",
    "    print(num)"
   ]
  },
  {
   "cell_type": "code",
   "execution_count": 6,
   "id": "9d060f4d",
   "metadata": {},
   "outputs": [
    {
     "name": "stdout",
     "output_type": "stream",
     "text": [
      "enter a 1st side = 5\n",
      "enter a 2nd side = 6\n",
      "enter a 3rd side = 7\n",
      "scal. tri.\n"
     ]
    }
   ],
   "source": [
    "s1 = int(input(\"enter a 1st side = \"))\n",
    "s2 = int(input(\"enter a 2nd side = \"))\n",
    "s3 = int(input(\"enter a 3rd side = \"))\n",
    "\n",
    "\n",
    "if s1 == s2 == s3:\n",
    "    print(\"eq. tri\")\n",
    "elif(s1 ==  s2 or s2 == s3 or s1 == s3):\n",
    "    print(\"iso. tri.\")\n",
    "else:\n",
    "    print(\"scal. tri.\")"
   ]
  },
  {
   "cell_type": "code",
   "execution_count": 10,
   "id": "a9a65d59",
   "metadata": {},
   "outputs": [
    {
     "name": "stdout",
     "output_type": "stream",
     "text": [
      "enter your percentage = 101\n",
      "inavlid percentage\n"
     ]
    }
   ],
   "source": [
    "perc = float(input(\"enter your percentage = \"))\n",
    "\n",
    "if (perc >= 80 and perc <=100):\n",
    "    print(\"grade A\")\n",
    "elif (perc >= 60 and perc < 80):\n",
    "    print(\"grade B\")\n",
    "elif (perc >= 40 and perc < 60):\n",
    "    print(\"grade C\")\n",
    "elif (perc >= 20 and perc < 40):\n",
    "    print(\"grade D\")\n",
    "elif (perc >= 0 and perc < 20):\n",
    "    print(\"Fail\")\n",
    "else:\n",
    "    print(\"inavlid percentage\")"
   ]
  },
  {
   "cell_type": "code",
   "execution_count": 12,
   "id": "344c5160",
   "metadata": {},
   "outputs": [
    {
     "name": "stdout",
     "output_type": "stream",
     "text": [
      "enter a 1st number = 5\n",
      "enter a 2nd number =6\n",
      "1.press '+' for add.\n",
      "2.press '-' for sub.\n",
      "3.press '*' for mul\n",
      "+\n",
      "11\n"
     ]
    }
   ],
   "source": [
    "num_1 = int(input(\"enter a 1st number = \"))\n",
    "num_2 = int(input(\"enter a 2nd number =\"))\n",
    "choice = input(\"1.press '+' for add.\\n2.press '-' for sub.\\n3.press '*' for mul\\n\")\n",
    "\n",
    "if choice == '+':\n",
    "    print(num_1+num_2)\n",
    "elif choice == '-':\n",
    "    print(num_1 -num_2)\n",
    "elif choice == '*':\n",
    "    print(num_1 *num_2)\n",
    "else:\n",
    "    print(\"invalid input\")"
   ]
  },
  {
   "cell_type": "code",
   "execution_count": 13,
   "id": "d8c05638",
   "metadata": {},
   "outputs": [
    {
     "name": "stdout",
     "output_type": "stream",
     "text": [
      "B is greater\n"
     ]
    }
   ],
   "source": [
    "a = 13\n",
    "b = 15\n",
    "print(\"A is greater\") if a > b else print(\"=\") if a == b else print(\"B is greater\")\n",
    "\n"
   ]
  },
  {
   "cell_type": "code",
   "execution_count": 16,
   "id": "7d839dea",
   "metadata": {},
   "outputs": [
    {
     "name": "stdout",
     "output_type": "stream",
     "text": [
      "hello\n",
      "hey\n"
     ]
    }
   ],
   "source": [
    "if(10 > 8):print(\"hello\")\n",
    "    "
   ]
  },
  {
   "cell_type": "code",
   "execution_count": 18,
   "id": "993dab05",
   "metadata": {},
   "outputs": [
    {
     "name": "stdout",
     "output_type": "stream",
     "text": [
      "False\n"
     ]
    },
    {
     "ename": "TypeError",
     "evalue": "'>=' not supported between instances of 'str' and 'int'",
     "output_type": "error",
     "traceback": [
      "\u001b[1;31m---------------------------------------------------------------------------\u001b[0m",
      "\u001b[1;31mTypeError\u001b[0m                                 Traceback (most recent call last)",
      "Cell \u001b[1;32mIn[18], line 2\u001b[0m\n\u001b[0;32m      1\u001b[0m \u001b[38;5;28mprint\u001b[39m(\u001b[38;5;124m\"\u001b[39m\u001b[38;5;124m2\u001b[39m\u001b[38;5;124m\"\u001b[39m \u001b[38;5;241m==\u001b[39m \u001b[38;5;241m2\u001b[39m)\n\u001b[1;32m----> 2\u001b[0m \u001b[38;5;28mprint\u001b[39m(\u001b[38;5;124;43m\"\u001b[39;49m\u001b[38;5;124;43m2\u001b[39;49m\u001b[38;5;124;43m\"\u001b[39;49m\u001b[43m \u001b[49m\u001b[38;5;241;43m>\u001b[39;49m\u001b[38;5;241;43m=\u001b[39;49m\u001b[43m \u001b[49m\u001b[38;5;241;43m2\u001b[39;49m)\n",
      "\u001b[1;31mTypeError\u001b[0m: '>=' not supported between instances of 'str' and 'int'"
     ]
    }
   ],
   "source": [
    "print(\"2\" == 2)  # False\n",
    "print(\"2\" >= 2)  #error"
   ]
  },
  {
   "cell_type": "code",
   "execution_count": 20,
   "id": "48c069ec",
   "metadata": {},
   "outputs": [
    {
     "name": "stdout",
     "output_type": "stream",
     "text": [
      "False\n",
      "65 ---- 97\n",
      "90 ---- 122\n"
     ]
    }
   ],
   "source": [
    "print(\"HELLO\" > \"Hello\")\n",
    "print(ord('A'),\"----\",ord(\"a\"))\n",
    "print(ord('Z'),\"----\",ord(\"z\"))"
   ]
  },
  {
   "cell_type": "code",
   "execution_count": 24,
   "id": "4a2fdf96",
   "metadata": {},
   "outputs": [
    {
     "name": "stdout",
     "output_type": "stream",
     "text": [
      "C\n"
     ]
    }
   ],
   "source": [
    "###### print(ord(\"hello\"))\n",
    "print(chr(67))"
   ]
  },
  {
   "cell_type": "code",
   "execution_count": null,
   "id": "9c47a50c",
   "metadata": {},
   "outputs": [],
   "source": []
  }
 ],
 "metadata": {
  "kernelspec": {
   "display_name": "Python 3 (ipykernel)",
   "language": "python",
   "name": "python3"
  },
  "language_info": {
   "codemirror_mode": {
    "name": "ipython",
    "version": 3
   },
   "file_extension": ".py",
   "mimetype": "text/x-python",
   "name": "python",
   "nbconvert_exporter": "python",
   "pygments_lexer": "ipython3",
   "version": "3.10.9"
  }
 },
 "nbformat": 4,
 "nbformat_minor": 5
}
