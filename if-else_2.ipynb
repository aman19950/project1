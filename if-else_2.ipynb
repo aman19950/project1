{
 "cells": [
  {
   "cell_type": "markdown",
   "id": "553bb6a2",
   "metadata": {},
   "source": [
    "## Nested if-else"
   ]
  },
  {
   "cell_type": "code",
   "execution_count": 1,
   "id": "6033ecf2",
   "metadata": {},
   "outputs": [
    {
     "name": "stdout",
     "output_type": "stream",
     "text": [
      "hello\n",
      "heyy\n",
      "bye\n"
     ]
    }
   ],
   "source": [
    "if(10 > 5):\n",
    "    print(\"hello\")\n",
    "    if(20 > 5):\n",
    "        print(\"heyy\")\n",
    "        if(40 > 50):\n",
    "            print(\"hiiii\")\n",
    "        else:\n",
    "            print(\"bye\")\n",
    "    else:\n",
    "        print(\"bye 1\")        \n",
    "else:\n",
    "    print(\"bye 2\")"
   ]
  },
  {
   "cell_type": "code",
   "execution_count": 2,
   "id": "4dca7be0",
   "metadata": {},
   "outputs": [
    {
     "name": "stdout",
     "output_type": "stream",
     "text": [
      "hello\n",
      "bye 1\n"
     ]
    }
   ],
   "source": [
    "if(10 > 5):\n",
    "    print(\"hello\")\n",
    "    if(20 < 5):\n",
    "        print(\"heyy\")\n",
    "        if(40 < 50):\n",
    "            print(\"hiiii\")\n",
    "        else:\n",
    "            print(\"bye\")\n",
    "    else:\n",
    "        print(\"bye 1\")        \n",
    "else:\n",
    "    print(\"bye 2\")"
   ]
  },
  {
   "cell_type": "code",
   "execution_count": 3,
   "id": "6b252037",
   "metadata": {},
   "outputs": [
    {
     "name": "stdout",
     "output_type": "stream",
     "text": [
      "hello\n",
      "heyy\n"
     ]
    }
   ],
   "source": [
    "if(10 > 5):\n",
    "    print(\"hello\")\n",
    "    if(20 > 5):\n",
    "        print(\"heyy\")\n",
    "        if(40 > 50):\n",
    "            print(\"hiiii\")\n",
    "    else:\n",
    "        print(\"bye 1\")        \n",
    "else:\n",
    "    print(\"bye 2\")"
   ]
  },
  {
   "cell_type": "code",
   "execution_count": null,
   "id": "62aaa6c7",
   "metadata": {},
   "outputs": [],
   "source": []
  }
 ],
 "metadata": {
  "kernelspec": {
   "display_name": "Python 3 (ipykernel)",
   "language": "python",
   "name": "python3"
  },
  "language_info": {
   "codemirror_mode": {
    "name": "ipython",
    "version": 3
   },
   "file_extension": ".py",
   "mimetype": "text/x-python",
   "name": "python",
   "nbconvert_exporter": "python",
   "pygments_lexer": "ipython3",
   "version": "3.10.9"
  }
 },
 "nbformat": 4,
 "nbformat_minor": 5
}
