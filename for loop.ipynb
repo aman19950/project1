{
 "cells": [
  {
   "cell_type": "markdown",
   "id": "ea6c15dc",
   "metadata": {},
   "source": [
    "## For Loop"
   ]
  },
  {
   "cell_type": "code",
   "execution_count": null,
   "id": "af6cbf55",
   "metadata": {},
   "outputs": [],
   "source": [
    "for i in range(1,10,2):        #range(start,stop,step)\n",
    "    print(i,end = \" \")"
   ]
  },
  {
   "cell_type": "code",
   "execution_count": null,
   "id": "1a578b39",
   "metadata": {},
   "outputs": [],
   "source": [
    "for i in range(1,10):        #range(start,stop,step = 1)\n",
    "    print(i,end = \" \")"
   ]
  },
  {
   "cell_type": "code",
   "execution_count": null,
   "id": "055e832c",
   "metadata": {},
   "outputs": [],
   "source": [
    "for i in range(10):        #range(start =0,stop,step=1)\n",
    "    print(i,end = \" \")"
   ]
  },
  {
   "cell_type": "code",
   "execution_count": null,
   "id": "5f55d9d1",
   "metadata": {},
   "outputs": [],
   "source": [
    "x = \"hello\"\n",
    "\n",
    "for i in range(len(x)):\n",
    "    print(i)"
   ]
  },
  {
   "cell_type": "code",
   "execution_count": null,
   "id": "78d680c5",
   "metadata": {},
   "outputs": [],
   "source": [
    "x = \"hello\"\n",
    "# print(x[0],x[1],x[2],x[3],x[4])\n",
    "\n",
    "for i in range(len(x)):\n",
    "    print(i,\"---\",x[i])"
   ]
  },
  {
   "cell_type": "code",
   "execution_count": null,
   "id": "55d6e3f4",
   "metadata": {},
   "outputs": [],
   "source": [
    "x = \"hello\"\n",
    "\n",
    "for i in x:\n",
    "    print(i)\n"
   ]
  },
  {
   "cell_type": "markdown",
   "id": "e006af27",
   "metadata": {},
   "source": [
    "### Q1.\n",
    "#### wap to print the factors of a given number"
   ]
  },
  {
   "cell_type": "code",
   "execution_count": null,
   "id": "08a0b062",
   "metadata": {},
   "outputs": [],
   "source": [
    "x = int(input(\"enter a number = \"))\n",
    "c = 0\n",
    "\n",
    "for i in range(1,x+1):\n",
    "    if(x % i == 0):\n",
    "        c = c + 1\n",
    "        print(\"the factor of\",x,'is',i)\n",
    "print(\"Total factor of\",x,\"is =\",c)"
   ]
  },
  {
   "cell_type": "markdown",
   "id": "9c216ccc",
   "metadata": {},
   "source": [
    "### Q2.\n",
    "- wap to print the even numbers between 1 to 100"
   ]
  },
  {
   "cell_type": "code",
   "execution_count": null,
   "id": "d97aef30",
   "metadata": {},
   "outputs": [],
   "source": [
    "for i in range(2,101,2):\n",
    "    print(i,end=\" \")"
   ]
  },
  {
   "cell_type": "code",
   "execution_count": null,
   "id": "50cdfdb7",
   "metadata": {},
   "outputs": [],
   "source": [
    "for i in range(1,101):\n",
    "    if(i%2 == 0):\n",
    "        print(i,end=\" \")"
   ]
  },
  {
   "cell_type": "code",
   "execution_count": null,
   "id": "6f240d57",
   "metadata": {},
   "outputs": [],
   "source": [
    "for i in range(100,1,-2):\n",
    "    print(i,end=\" \")"
   ]
  },
  {
   "cell_type": "markdown",
   "id": "517cac70",
   "metadata": {},
   "source": [
    "### Break, Continue and Pass"
   ]
  },
  {
   "cell_type": "markdown",
   "id": "2f4d21d2",
   "metadata": {},
   "source": [
    "## Break"
   ]
  },
  {
   "cell_type": "code",
   "execution_count": null,
   "id": "5fc8292a",
   "metadata": {},
   "outputs": [],
   "source": [
    "for i in range(1,5):\n",
    "    if (i == 3):\n",
    "        break\n",
    "    else:\n",
    "        print(i)"
   ]
  },
  {
   "cell_type": "code",
   "execution_count": null,
   "id": "a1fc0e6e",
   "metadata": {},
   "outputs": [],
   "source": [
    "for i in range(1,5):\n",
    "    if (i == 3):\n",
    "        continue\n",
    "    else:\n",
    "        print(i)"
   ]
  },
  {
   "cell_type": "code",
   "execution_count": null,
   "id": "4e29604d",
   "metadata": {},
   "outputs": [],
   "source": [
    "if(10 > 15):\n",
    "    print(\"hello\")\n",
    "else:\n",
    "    pass"
   ]
  },
  {
   "cell_type": "markdown",
   "id": "1523a4a1",
   "metadata": {},
   "source": [
    "#### wap to reverse a number ex 5675 --- > 5765"
   ]
  },
  {
   "cell_type": "code",
   "execution_count": null,
   "id": "1e85b041",
   "metadata": {},
   "outputs": [],
   "source": [
    "x = int(input(\"enter a number = \"))\n",
    "y =  str(x)\n",
    "z = y[ : : -1]\n",
    "x = int(z)\n",
    "print(x)"
   ]
  },
  {
   "cell_type": "code",
   "execution_count": 12,
   "id": "9c2ce13b",
   "metadata": {},
   "outputs": [
    {
     "name": "stdout",
     "output_type": "stream",
     "text": [
      "enter a number = 12\n",
      "reversed number =  21\n"
     ]
    }
   ],
   "source": [
    "x = int(input(\"enter a number = \"))\n",
    "rev = 0\n",
    "\n",
    "while(x > 0):\n",
    "    rem = x % 10\n",
    "    rev = (rev *10)+rem\n",
    "    x = x // 10\n",
    "\n",
    "print(\"reversed number = \",rev)"
   ]
  },
  {
   "cell_type": "markdown",
   "id": "14ef5f77",
   "metadata": {},
   "source": [
    "### Q7. wap to print the factorial a input number"
   ]
  },
  {
   "cell_type": "code",
   "execution_count": 7,
   "id": "d0961ad3",
   "metadata": {},
   "outputs": [
    {
     "name": "stdout",
     "output_type": "stream",
     "text": [
      "enter a number = 5\n",
      "the factorial of 5 is = 120\n"
     ]
    }
   ],
   "source": [
    "x = int(input(\"enter a number = \"))\n",
    "fact = 1\n",
    "\n",
    "if x < 0:\n",
    "    print(\"factorial doesn't exists\")\n",
    "else:\n",
    "    for i in range(1,x+1):  \n",
    "        fact = fact * i\n",
    "\n",
    "    print(\"the factorial of\",x,\"is =\",fact)"
   ]
  },
  {
   "cell_type": "markdown",
   "id": "94df035d",
   "metadata": {},
   "source": [
    "## While Loop"
   ]
  },
  {
   "cell_type": "code",
   "execution_count": 9,
   "id": "c9a26a0a",
   "metadata": {},
   "outputs": [
    {
     "name": "stdout",
     "output_type": "stream",
     "text": [
      "0\n",
      "1\n",
      "2\n",
      "3\n",
      "4\n",
      "5\n"
     ]
    }
   ],
   "source": [
    "i = 0\n",
    "while(i <= 5):\n",
    "    print(i)\n",
    "    i = i+1\n",
    "    "
   ]
  },
  {
   "cell_type": "markdown",
   "id": "2550b8ac",
   "metadata": {},
   "source": [
    "## wap to swap the two numbers"
   ]
  },
  {
   "cell_type": "code",
   "execution_count": 14,
   "id": "d3221a5f",
   "metadata": {},
   "outputs": [
    {
     "name": "stdout",
     "output_type": "stream",
     "text": [
      "before swapping =  5\n",
      "before swapping =  6\n",
      "after swapping =  6\n",
      "after swapping =  5\n"
     ]
    }
   ],
   "source": [
    "x = 5\n",
    "y = 6\n",
    "\n",
    "print(\"before swapping = \",x)\n",
    "print(\"before swapping = \",y)\n",
    "\n",
    "z = x\n",
    "x = y\n",
    "y = z\n",
    "\n",
    "print(\"after swapping = \",x)\n",
    "print(\"after swapping = \",y)"
   ]
  },
  {
   "cell_type": "code",
   "execution_count": 15,
   "id": "a7878d02",
   "metadata": {},
   "outputs": [
    {
     "name": "stdout",
     "output_type": "stream",
     "text": [
      "before swapping =  5\n",
      "before swapping =  6\n",
      "after swapping =  6\n",
      "after swapping =  5\n"
     ]
    }
   ],
   "source": [
    "x = 5\n",
    "y = 6\n",
    "\n",
    "print(\"before swapping = \",x)\n",
    "print(\"before swapping = \",y)\n",
    "\n",
    "x = x + y\n",
    "y = x - y\n",
    "x = x - y\n",
    "\n",
    "print(\"after swapping = \",x)\n",
    "print(\"after swapping = \",y)"
   ]
  },
  {
   "cell_type": "code",
   "execution_count": 16,
   "id": "f6830c62",
   "metadata": {},
   "outputs": [
    {
     "name": "stdout",
     "output_type": "stream",
     "text": [
      "before swapping =  5\n",
      "before swapping =  6\n",
      "after swapping =  6\n",
      "after swapping =  5\n"
     ]
    }
   ],
   "source": [
    "x = 5\n",
    "y = 6\n",
    "\n",
    "print(\"before swapping = \",x)\n",
    "print(\"before swapping = \",y)\n",
    "\n",
    "x,y = y,x\n",
    "\n",
    "print(\"after swapping = \",x)\n",
    "print(\"after swapping = \",y)"
   ]
  },
  {
   "cell_type": "code",
   "execution_count": 1,
   "id": "4a1113e2",
   "metadata": {},
   "outputs": [],
   "source": [
    "##home work ques\n",
    "# 1. wap to print the fibbonaci series between upto 10 \n",
    "# # o/p -> 0,1,1,2,3,5,8....\n",
    "# 2. wap to check a string is palindrome or not\n",
    "# 3. wap to check a number is palindrome or not\n",
    "# 4. wap to check the a number is prime number or not\n",
    "# 5. wap to print all the prime number between 1-100"
   ]
  },
  {
   "cell_type": "code",
   "execution_count": 2,
   "id": "12b47c34",
   "metadata": {
    "scrolled": true
   },
   "outputs": [
    {
     "name": "stdout",
     "output_type": "stream",
     "text": [
      "hello\n"
     ]
    }
   ],
   "source": [
    "x = \"hello\"\n",
    "for i in x:\n",
    "    i.upper()\n",
    "print(x)    "
   ]
  },
  {
   "cell_type": "code",
   "execution_count": 3,
   "id": "0f386965",
   "metadata": {},
   "outputs": [
    {
     "name": "stdout",
     "output_type": "stream",
     "text": [
      "enter your range = 5\n",
      "0\n",
      "1\n",
      "1\n",
      "2\n",
      "3\n"
     ]
    }
   ],
   "source": [
    "# wap to print the fibbonaci series between upto 10 \n",
    "# # o/p -> 0,1,1,2,3,5,8....\n",
    "num = int(input(\"enter your range = \"))\n",
    "x = 0\n",
    "y = 1\n",
    "\n",
    "while(x < num):\n",
    "    print(x)\n",
    "    x,y = y,x+y\n"
   ]
  },
  {
   "cell_type": "markdown",
   "id": "b1855cff",
   "metadata": {},
   "source": [
    "### Nested Loop"
   ]
  },
  {
   "cell_type": "code",
   "execution_count": 5,
   "id": "20f49e34",
   "metadata": {},
   "outputs": [
    {
     "name": "stdout",
     "output_type": "stream",
     "text": [
      "* \n",
      "* * \n",
      "* * * \n",
      "* * * * \n",
      "* * * * * \n"
     ]
    }
   ],
   "source": [
    "for i in range(1,6):     # outer loop /row\n",
    "    for j in range(1,i+1):    ## inner loop /col\n",
    "        print(\"*\",end = \" \")\n",
    "    print()"
   ]
  },
  {
   "cell_type": "code",
   "execution_count": 6,
   "id": "20a1b39f",
   "metadata": {},
   "outputs": [
    {
     "name": "stdout",
     "output_type": "stream",
     "text": [
      "hello hello hello hello hello \n"
     ]
    }
   ],
   "source": [
    "print(\"hello \" *5)"
   ]
  },
  {
   "cell_type": "code",
   "execution_count": 7,
   "id": "9238e7fc",
   "metadata": {},
   "outputs": [
    {
     "name": "stdout",
     "output_type": "stream",
     "text": [
      "* \n",
      "* * \n",
      "* * * \n",
      "* * * * \n",
      "* * * * * \n"
     ]
    }
   ],
   "source": [
    "i = 1\n",
    "while(i <= 5):\n",
    "    print(\"* \" * i)\n",
    "    i = i + 1"
   ]
  },
  {
   "cell_type": "code",
   "execution_count": null,
   "id": "2ec3b331",
   "metadata": {},
   "outputs": [],
   "source": []
  }
 ],
 "metadata": {
  "kernelspec": {
   "display_name": "Python 3 (ipykernel)",
   "language": "python",
   "name": "python3"
  },
  "language_info": {
   "codemirror_mode": {
    "name": "ipython",
    "version": 3
   },
   "file_extension": ".py",
   "mimetype": "text/x-python",
   "name": "python",
   "nbconvert_exporter": "python",
   "pygments_lexer": "ipython3",
   "version": "3.10.9"
  }
 },
 "nbformat": 4,
 "nbformat_minor": 5
}
