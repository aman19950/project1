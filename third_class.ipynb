{
 "cells": [
  {
   "cell_type": "code",
   "execution_count": 1,
   "id": "19da5d0f",
   "metadata": {},
   "outputs": [
    {
     "name": "stdout",
     "output_type": "stream",
     "text": [
      "['hello', 'how are', 'you']\n"
     ]
    }
   ],
   "source": [
    "x = \"hello how areyou\"\n",
    "\n",
    "y = x.split(\",\")\n",
    "print(y)\n",
    "# z = y[ : : -1]\n",
    "# print(\" \".join(z))"
   ]
  },
  {
   "cell_type": "code",
   "execution_count": 11,
   "id": "8131ef19",
   "metadata": {},
   "outputs": [
    {
     "name": "stdout",
     "output_type": "stream",
     "text": [
      "enter a first number = 10\n",
      "enter a second number = 10\n",
      "20.0\n"
     ]
    }
   ],
   "source": [
    "# type casting change one data type to another data type\n",
    "x = int(input(\"enter a first number = \"))\n",
    "y = float(input(\"enter a second number = \"))\n",
    "\n",
    "z = x + y\n",
    "print(z)"
   ]
  },
  {
   "cell_type": "markdown",
   "id": "95dd8cad",
   "metadata": {},
   "source": [
    "### operators"
   ]
  },
  {
   "cell_type": "code",
   "execution_count": 12,
   "id": "0d7d85a9",
   "metadata": {},
   "outputs": [
    {
     "name": "stdout",
     "output_type": "stream",
     "text": [
      "20\n",
      "0\n",
      "100\n",
      "2.0\n",
      "2\n",
      "0\n",
      "5\n",
      "32\n"
     ]
    }
   ],
   "source": [
    "# arithmatic  oper.\n",
    "print(10 + 10)      # 20\n",
    "print(10 - 10)      # 0\n",
    "print(10 * 10)      # 100\n",
    "print(10 / 5)       # 2.0\n",
    "print(10 // 5)      # 2    #floor division\n",
    "print(10 % 5)       # 0    #mod  #calculate remainder\n",
    "print(5 % 10)       # 5\n",
    "print(2 ** 5)       # 32"
   ]
  },
  {
   "cell_type": "markdown",
   "id": "fc2fd620",
   "metadata": {},
   "source": [
    "### comparison or  relational ope."
   ]
  },
  {
   "cell_type": "code",
   "execution_count": 13,
   "id": "98284e8b",
   "metadata": {},
   "outputs": [
    {
     "name": "stdout",
     "output_type": "stream",
     "text": [
      "False\n",
      "False\n",
      "True\n",
      "True\n",
      "False\n",
      "True\n"
     ]
    }
   ],
   "source": [
    "print(10 > 10)      # False\n",
    "print(10 < 10)      # False\n",
    "print(10 <= 10)     # True\n",
    "print(10 >= 10)     # True\n",
    "print(10 != 10)     # False\n",
    "print(10 == 10)     # True"
   ]
  },
  {
   "cell_type": "markdown",
   "id": "bd168290",
   "metadata": {},
   "source": [
    "## Logical op.\n",
    "- and ,or, not"
   ]
  },
  {
   "cell_type": "code",
   "execution_count": 14,
   "id": "50ae63e3",
   "metadata": {},
   "outputs": [
    {
     "name": "stdout",
     "output_type": "stream",
     "text": [
      "False\n"
     ]
    }
   ],
   "source": [
    "print(10 > 20 and  20 > 40)"
   ]
  },
  {
   "cell_type": "code",
   "execution_count": 15,
   "id": "c914e1de",
   "metadata": {},
   "outputs": [
    {
     "name": "stdout",
     "output_type": "stream",
     "text": [
      "True\n"
     ]
    }
   ],
   "source": [
    "print(10 > 20 or  120 > 40)"
   ]
  },
  {
   "cell_type": "code",
   "execution_count": 16,
   "id": "3afad3c6",
   "metadata": {},
   "outputs": [
    {
     "name": "stdout",
     "output_type": "stream",
     "text": [
      "True\n"
     ]
    }
   ],
   "source": [
    "print(100 > 20 or  20 > 40 and 130 > 20 )"
   ]
  },
  {
   "cell_type": "code",
   "execution_count": 17,
   "id": "abe76393",
   "metadata": {},
   "outputs": [
    {
     "name": "stdout",
     "output_type": "stream",
     "text": [
      "True\n"
     ]
    }
   ],
   "source": [
    "print(not(10 > 20))"
   ]
  },
  {
   "cell_type": "code",
   "execution_count": null,
   "id": "619e6731",
   "metadata": {},
   "outputs": [],
   "source": [
    "# homework\n",
    "print(3 and 5)\n",
    "print(3 or 5)"
   ]
  },
  {
   "cell_type": "code",
   "execution_count": 20,
   "id": "13113a64",
   "metadata": {},
   "outputs": [
    {
     "name": "stdout",
     "output_type": "stream",
     "text": [
      "0.30000000000000004\n"
     ]
    }
   ],
   "source": [
    "# print(0.1+0.2 == 0.3)\n",
    "print(0.1+0.2)"
   ]
  },
  {
   "cell_type": "markdown",
   "id": "a369ebda",
   "metadata": {},
   "source": [
    "### Bitwise Ope.\n",
    "- &,|,<<,>>"
   ]
  },
  {
   "cell_type": "code",
   "execution_count": 21,
   "id": "59da262f",
   "metadata": {},
   "outputs": [
    {
     "name": "stdout",
     "output_type": "stream",
     "text": [
      "20\n"
     ]
    }
   ],
   "source": [
    "print( 28 & 22)"
   ]
  },
  {
   "cell_type": "code",
   "execution_count": 22,
   "id": "86b831ca",
   "metadata": {},
   "outputs": [
    {
     "name": "stdout",
     "output_type": "stream",
     "text": [
      "30\n"
     ]
    }
   ],
   "source": [
    "print(28 | 22)"
   ]
  },
  {
   "cell_type": "code",
   "execution_count": 23,
   "id": "89bae0bb",
   "metadata": {},
   "outputs": [
    {
     "name": "stdout",
     "output_type": "stream",
     "text": [
      "144\n"
     ]
    }
   ],
   "source": [
    "print(36 << 2)"
   ]
  },
  {
   "cell_type": "code",
   "execution_count": 24,
   "id": "c56f5585",
   "metadata": {},
   "outputs": [
    {
     "name": "stdout",
     "output_type": "stream",
     "text": [
      "1\n"
     ]
    }
   ],
   "source": [
    "print(5 >> 2)"
   ]
  },
  {
   "cell_type": "code",
   "execution_count": 25,
   "id": "a7c12d70",
   "metadata": {},
   "outputs": [
    {
     "name": "stdout",
     "output_type": "stream",
     "text": [
      "-5\n"
     ]
    }
   ],
   "source": [
    "print(~4)"
   ]
  },
  {
   "cell_type": "code",
   "execution_count": 27,
   "id": "9c22c859",
   "metadata": {},
   "outputs": [
    {
     "name": "stdout",
     "output_type": "stream",
     "text": [
      "-5\n"
     ]
    }
   ],
   "source": [
    "print(~~~4)"
   ]
  },
  {
   "cell_type": "code",
   "execution_count": null,
   "id": "a835db9d",
   "metadata": {},
   "outputs": [],
   "source": []
  }
 ],
 "metadata": {
  "kernelspec": {
   "display_name": "Python 3 (ipykernel)",
   "language": "python",
   "name": "python3"
  },
  "language_info": {
   "codemirror_mode": {
    "name": "ipython",
    "version": 3
   },
   "file_extension": ".py",
   "mimetype": "text/x-python",
   "name": "python",
   "nbconvert_exporter": "python",
   "pygments_lexer": "ipython3",
   "version": "3.10.9"
  }
 },
 "nbformat": 4,
 "nbformat_minor": 5
}
