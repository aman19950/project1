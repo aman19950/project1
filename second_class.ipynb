{
 "cells": [
  {
   "cell_type": "markdown",
   "id": "2efa5ad3",
   "metadata": {},
   "source": [
    "## Slicing\n",
    "- variable_name[start_index : stop_index]\n",
    "- variable_name[start_inde : stop_index : step]"
   ]
  },
  {
   "cell_type": "code",
   "execution_count": 1,
   "id": "0dd8142e",
   "metadata": {},
   "outputs": [
    {
     "name": "stdout",
     "output_type": "stream",
     "text": [
      "hell\n"
     ]
    }
   ],
   "source": [
    "x = \"hello\"\n",
    "print(x[0:4])"
   ]
  },
  {
   "cell_type": "code",
   "execution_count": 2,
   "id": "86bf803e",
   "metadata": {},
   "outputs": [
    {
     "name": "stdout",
     "output_type": "stream",
     "text": [
      "hlohw\n"
     ]
    }
   ],
   "source": [
    "x = \"hello how are you\"\n",
    "# print(x[0:4])\n",
    "print(x[0 : 10 : 2])"
   ]
  },
  {
   "cell_type": "code",
   "execution_count": 7,
   "id": "1e84df1a",
   "metadata": {},
   "outputs": [
    {
     "name": "stdout",
     "output_type": "stream",
     "text": [
      "e yo\n",
      "you\n",
      "hell\n"
     ]
    }
   ],
   "source": [
    "x = \"hello how are you\"\n",
    "# print(x[-1:-4])\n",
    "print(x[-5:-1])\n",
    "print(x[-3 : ])\n",
    "print(x[ : 4])"
   ]
  },
  {
   "cell_type": "code",
   "execution_count": 13,
   "id": "f60165f2",
   "metadata": {},
   "outputs": [
    {
     "name": "stdout",
     "output_type": "stream",
     "text": [
      "uoy era woh olleh\n"
     ]
    }
   ],
   "source": [
    "x = \"hello how are you\"\n",
    "print(x[ : :-1])\n",
    "# print(x[-1:])"
   ]
  },
  {
   "cell_type": "code",
   "execution_count": 22,
   "id": "bdb0e6c2",
   "metadata": {},
   "outputs": [
    {
     "name": "stdout",
     "output_type": "stream",
     "text": [
      "14\n",
      "14\n",
      "0\n",
      "14\n",
      "-1\n",
      "11\n"
     ]
    }
   ],
   "source": [
    "x = \"hello how ahe you\"\n",
    "print(x.index('y'))\n",
    "print(x.index('you'))\n",
    "print(x.index('h'))\n",
    "# print(x.index('s'))\n",
    "print(x.find('y'))\n",
    "print(x.find('s'))\n",
    "print(x.rindex('h'))"
   ]
  },
  {
   "cell_type": "code",
   "execution_count": 31,
   "id": "af6d7eb5",
   "metadata": {},
   "outputs": [
    {
     "name": "stdout",
     "output_type": "stream",
     "text": [
      "hi how ahe you\n",
      "hiello hiow ahie you\n",
      "hiello hiow ahie you\n"
     ]
    }
   ],
   "source": [
    "x = \"hello how ahe you\"\n",
    "print(x.replace(\"hello\",\"hi\"))\n",
    "# print(x.replace(\"h\",\"hi\",1))\n",
    "print(x.replace(\"h\",\"hi\",4))\n",
    "print(x.replace(x[6],\"hi\",4))"
   ]
  },
  {
   "cell_type": "code",
   "execution_count": 34,
   "id": "1c49356d",
   "metadata": {},
   "outputs": [
    {
     "name": "stdout",
     "output_type": "stream",
     "text": [
      "True\n",
      "False\n"
     ]
    }
   ],
   "source": [
    "x = \"hello how ahe you\"\n",
    "print(x.startswith('hello'))\n",
    "\n",
    "print(x.endswith('hello'))"
   ]
  },
  {
   "cell_type": "code",
   "execution_count": 35,
   "id": "9fa6a1d1",
   "metadata": {},
   "outputs": [
    {
     "data": {
      "text/plain": [
       "['__add__',\n",
       " '__class__',\n",
       " '__contains__',\n",
       " '__delattr__',\n",
       " '__dir__',\n",
       " '__doc__',\n",
       " '__eq__',\n",
       " '__format__',\n",
       " '__ge__',\n",
       " '__getattribute__',\n",
       " '__getitem__',\n",
       " '__getnewargs__',\n",
       " '__gt__',\n",
       " '__hash__',\n",
       " '__init__',\n",
       " '__init_subclass__',\n",
       " '__iter__',\n",
       " '__le__',\n",
       " '__len__',\n",
       " '__lt__',\n",
       " '__mod__',\n",
       " '__mul__',\n",
       " '__ne__',\n",
       " '__new__',\n",
       " '__reduce__',\n",
       " '__reduce_ex__',\n",
       " '__repr__',\n",
       " '__rmod__',\n",
       " '__rmul__',\n",
       " '__setattr__',\n",
       " '__sizeof__',\n",
       " '__str__',\n",
       " '__subclasshook__',\n",
       " 'capitalize',\n",
       " 'casefold',\n",
       " 'center',\n",
       " 'count',\n",
       " 'encode',\n",
       " 'endswith',\n",
       " 'expandtabs',\n",
       " 'find',\n",
       " 'format',\n",
       " 'format_map',\n",
       " 'index',\n",
       " 'isalnum',\n",
       " 'isalpha',\n",
       " 'isascii',\n",
       " 'isdecimal',\n",
       " 'isdigit',\n",
       " 'isidentifier',\n",
       " 'islower',\n",
       " 'isnumeric',\n",
       " 'isprintable',\n",
       " 'isspace',\n",
       " 'istitle',\n",
       " 'isupper',\n",
       " 'join',\n",
       " 'ljust',\n",
       " 'lower',\n",
       " 'lstrip',\n",
       " 'maketrans',\n",
       " 'partition',\n",
       " 'removeprefix',\n",
       " 'removesuffix',\n",
       " 'replace',\n",
       " 'rfind',\n",
       " 'rindex',\n",
       " 'rjust',\n",
       " 'rpartition',\n",
       " 'rsplit',\n",
       " 'rstrip',\n",
       " 'split',\n",
       " 'splitlines',\n",
       " 'startswith',\n",
       " 'strip',\n",
       " 'swapcase',\n",
       " 'title',\n",
       " 'translate',\n",
       " 'upper',\n",
       " 'zfill']"
      ]
     },
     "execution_count": 35,
     "metadata": {},
     "output_type": "execute_result"
    }
   ],
   "source": [
    "dir('__str__')"
   ]
  },
  {
   "cell_type": "code",
   "execution_count": 39,
   "id": "afaa2f9a",
   "metadata": {},
   "outputs": [
    {
     "ename": "SyntaxError",
     "evalue": "invalid syntax (803388601.py, line 2)",
     "output_type": "error",
     "traceback": [
      "\u001b[1;36m  Cell \u001b[1;32mIn[39], line 2\u001b[1;36m\u001b[0m\n\u001b[1;33m    y= \"hello \"how\" are you\"\u001b[0m\n\u001b[1;37m               ^\u001b[0m\n\u001b[1;31mSyntaxError\u001b[0m\u001b[1;31m:\u001b[0m invalid syntax\n"
     ]
    }
   ],
   "source": [
    "x = \"hello 'how' are you\"\n",
    "y= \"hello \"how\" are you\"\n",
    "print(x)\n",
    "print(y)"
   ]
  },
  {
   "cell_type": "markdown",
   "id": "9506af79",
   "metadata": {},
   "source": [
    "## Escape Character\n",
    "\n",
    "- \\\n",
    "- \\t   one tab space\n",
    "- \\n   new line/next line"
   ]
  },
  {
   "cell_type": "code",
   "execution_count": 43,
   "id": "f76917df",
   "metadata": {},
   "outputs": [
    {
     "name": "stdout",
     "output_type": "stream",
     "text": [
      "hello \"how\" are you\n"
     ]
    }
   ],
   "source": [
    "x = \"hello \\\"how\\\" are you\"\n",
    "print(x)"
   ]
  },
  {
   "cell_type": "code",
   "execution_count": 44,
   "id": "aa37aa02",
   "metadata": {},
   "outputs": [],
   "source": [
    "x = \"hello\\t\\thow are you\""
   ]
  },
  {
   "cell_type": "code",
   "execution_count": 45,
   "id": "590b8e29",
   "metadata": {},
   "outputs": [
    {
     "name": "stdout",
     "output_type": "stream",
     "text": [
      "hello\t\thow are you\n"
     ]
    }
   ],
   "source": [
    "print(x)"
   ]
  },
  {
   "cell_type": "code",
   "execution_count": 46,
   "id": "b958e7d5",
   "metadata": {},
   "outputs": [],
   "source": [
    "x = \"hello\\nhow are you\""
   ]
  },
  {
   "cell_type": "code",
   "execution_count": 47,
   "id": "3bbd7196",
   "metadata": {},
   "outputs": [
    {
     "name": "stdout",
     "output_type": "stream",
     "text": [
      "hello\n",
      "how are you\n"
     ]
    }
   ],
   "source": [
    "print(x)"
   ]
  },
  {
   "cell_type": "code",
   "execution_count": 48,
   "id": "60c3404c",
   "metadata": {},
   "outputs": [
    {
     "name": "stdout",
     "output_type": "stream",
     "text": [
      "\t\n"
     ]
    }
   ],
   "source": [
    "print(\"\\t\")"
   ]
  },
  {
   "cell_type": "code",
   "execution_count": 49,
   "id": "b9609dc2",
   "metadata": {},
   "outputs": [
    {
     "name": "stdout",
     "output_type": "stream",
     "text": [
      "\\t\n"
     ]
    }
   ],
   "source": [
    "print(\"\\\\t\")"
   ]
  },
  {
   "cell_type": "code",
   "execution_count": 5,
   "id": "5c292cd6",
   "metadata": {},
   "outputs": [
    {
     "name": "stdout",
     "output_type": "stream",
     "text": [
      "1655539958128\n",
      "1655539958128\n"
     ]
    }
   ],
   "source": [
    "x = 5\n",
    "y = 5\n",
    "\n",
    "print(id(x))\n",
    "print(id(y))"
   ]
  },
  {
   "cell_type": "code",
   "execution_count": null,
   "id": "165ef3d9",
   "metadata": {},
   "outputs": [],
   "source": []
  }
 ],
 "metadata": {
  "kernelspec": {
   "display_name": "Python 3 (ipykernel)",
   "language": "python",
   "name": "python3"
  },
  "language_info": {
   "codemirror_mode": {
    "name": "ipython",
    "version": 3
   },
   "file_extension": ".py",
   "mimetype": "text/x-python",
   "name": "python",
   "nbconvert_exporter": "python",
   "pygments_lexer": "ipython3",
   "version": "3.10.9"
  }
 },
 "nbformat": 4,
 "nbformat_minor": 5
}
